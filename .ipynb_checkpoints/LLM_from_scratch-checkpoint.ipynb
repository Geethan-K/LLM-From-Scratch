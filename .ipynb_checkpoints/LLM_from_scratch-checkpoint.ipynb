{
 "cells": [
  {
   "cell_type": "code",
   "execution_count": 4,
   "id": "35659bff-5c88-426a-9f74-34fd800d6edf",
   "metadata": {},
   "outputs": [
    {
     "name": "stdout",
     "output_type": "stream",
     "text": [
      "Total no. of. charachters 20479\n",
      "I HAD always thought Jack Gisburn rather a cheap genius--though a good fellow enough--so it was no \n"
     ]
    }
   ],
   "source": [
    "with open(\"the-verdict.txt\" , \"r\" , encoding=\"utf-8\") as f:\n",
    "    raw_text = f.read()\n",
    "\n",
    "print(\"Total no. of. charachters\" , len(raw_text))\n",
    "print(raw_text[:99])"
   ]
  },
  {
   "cell_type": "code",
   "execution_count": 8,
   "id": "4ab98c70-4df6-4f19-b229-1e7406a1963a",
   "metadata": {},
   "outputs": [
    {
     "name": "stdout",
     "output_type": "stream",
     "text": [
      "['Hello', ' ', 'world', ' ', '!', ' ', ',', ' ', 'This', ' ', 'is', ' ', 'a', ' ', 'test']\n"
     ]
    }
   ],
   "source": [
    "import re\n",
    "\n",
    "text = \"Hello world ! , This is a test\"\n",
    "result = re.split(r'(\\s)' , text)\n",
    "\n",
    "print(result)"
   ]
  },
  {
   "cell_type": "code",
   "execution_count": 27,
   "id": "eba21807-1a6e-4a60-99ea-5ecca120e8dc",
   "metadata": {},
   "outputs": [
    {
     "name": "stdout",
     "output_type": "stream",
     "text": [
      "['Hello', ' ', 'world', ' ', '', '!', '', ' ', '', ',', '', ' ', 'This', ' ', 'is', ' ', 'a', ' ', 'test']\n"
     ]
    }
   ],
   "source": [
    "result = re.split(r'([,.;:?_!\"()\\']|--|\\s)' , text)\n",
    "print(result)"
   ]
  },
  {
   "cell_type": "code",
   "execution_count": 29,
   "id": "f2b270b4-911f-4628-a674-fb4d4cb6f3bc",
   "metadata": {},
   "outputs": [
    {
     "name": "stdout",
     "output_type": "stream",
     "text": [
      "['Hello', 'world', '!', ',', 'This', 'is', 'a', 'test']\n"
     ]
    }
   ],
   "source": [
    "## removing the white spaces\n",
    "result = [item for item in result if item.strip()]\n",
    "print(result)"
   ]
  },
  {
   "cell_type": "code",
   "execution_count": 30,
   "id": "6c3ece04-cde3-4b62-b4b4-06cd1bb55494",
   "metadata": {},
   "outputs": [
    {
     "name": "stdout",
     "output_type": "stream",
     "text": [
      "['I', 'HAD', 'always', 'thought', 'Jack', 'Gisburn', 'rather', 'a', 'cheap', 'genius', '--', 'though', 'a', 'good', 'fellow', 'enough', '--', 'so', 'it', 'was', 'no', 'great', 'surprise', 'to', 'me', 'to', 'hear', 'that', ',', 'in']\n"
     ]
    }
   ],
   "source": [
    "preprocessed = re.split(r'([,.;:?_!\"()\\']|--|\\s)' , raw_text)\n",
    "preprocessed = [item.strip() for item in preprocessed if item.strip()]\n",
    "print(preprocessed[:30])"
   ]
  },
  {
   "cell_type": "code",
   "execution_count": 31,
   "id": "04700b6f-ff08-4234-a252-44b0dbfe7e37",
   "metadata": {},
   "outputs": [
    {
     "name": "stdout",
     "output_type": "stream",
     "text": [
      "4690\n"
     ]
    }
   ],
   "source": [
    "print(len(preprocessed))"
   ]
  },
  {
   "cell_type": "code",
   "execution_count": 32,
   "id": "51146b11-ed38-4e16-a6a4-2843e41facfa",
   "metadata": {},
   "outputs": [
    {
     "name": "stdout",
     "output_type": "stream",
     "text": [
      "1130\n"
     ]
    }
   ],
   "source": [
    "### sort all words in alfabetical order \n",
    "## set keyword is used to take only unique words (non-repeating)\n",
    "all_words = sorted(set(preprocessed))\n",
    "vocab_size = len(all_words)\n",
    "\n",
    "print(vocab_size)"
   ]
  },
  {
   "cell_type": "code",
   "execution_count": 33,
   "id": "37206536-648e-4d24-ab1b-7e7d3237e412",
   "metadata": {},
   "outputs": [],
   "source": [
    "vocab = {token:integer for integer,token in enumerate(all_words)}"
   ]
  },
  {
   "cell_type": "code",
   "execution_count": 35,
   "id": "30a145d8-fb5b-401e-86dc-85b894a21cab",
   "metadata": {},
   "outputs": [
    {
     "name": "stdout",
     "output_type": "stream",
     "text": [
      "('!', 0)\n",
      "('\"', 1)\n",
      "(\"'\", 2)\n",
      "('(', 3)\n",
      "(')', 4)\n",
      "(',', 5)\n",
      "('--', 6)\n",
      "('.', 7)\n",
      "(':', 8)\n",
      "(';', 9)\n",
      "('?', 10)\n",
      "('A', 11)\n",
      "('Ah', 12)\n",
      "('Among', 13)\n",
      "('And', 14)\n",
      "('Are', 15)\n",
      "('Arrt', 16)\n",
      "('As', 17)\n",
      "('At', 18)\n",
      "('Be', 19)\n",
      "('Begin', 20)\n"
     ]
    }
   ],
   "source": [
    "## Let's print some of them to understand \n",
    "\n",
    "for i,item in enumerate(vocab.items()):\n",
    "    print(item)\n",
    "    if(i>=20):\n",
    "        break"
   ]
  },
  {
   "cell_type": "code",
   "execution_count": null,
   "id": "c321fec3-8ab9-4262-ad07-8c7b06490492",
   "metadata": {},
   "outputs": [],
   "source": [
    "### THE ABOVE PROCESS IS ENCODER \n",
    "### reversal of this process is called DECODER"
   ]
  },
  {
   "cell_type": "code",
   "execution_count": 53,
   "id": "0529185d-21f6-4edf-a266-8edddd0ba9bf",
   "metadata": {},
   "outputs": [],
   "source": [
    "class SimpleTokenizer:\n",
    "    def __init__(self,vocab):\n",
    "        self.str_to_int = vocab  ##mentioned above list\n",
    "        self.int_to_str = {i:s for s,i in vocab.items()}\n",
    "\n",
    "    def encode(self,text):\n",
    "        preprocessed = re.split(r'([,.;:?_!\"()\\']|--|\\s)' , text)\n",
    "        preprocessed = [ item.strip() for item in preprocessed if item.strip() ]\n",
    "        ids = [ self.str_to_int[s] for s in preprocessed ]\n",
    "        return ids\n",
    "\n",
    "    def decode(self,ids):\n",
    "        text = \" \".join([self.int_to_str[i] for i in ids])\n",
    "        ## Replace spaces before special charachters\n",
    "        text = re.sub(r'\\s+([,.?!\"()\\'])' , r'\\1' , text)\n",
    "        return text        "
   ]
  },
  {
   "cell_type": "code",
   "execution_count": 54,
   "id": "33a4cb0b-f006-4da6-8bc4-6ee3a1dfcf67",
   "metadata": {},
   "outputs": [],
   "source": [
    "### Let's test it\n",
    "\n",
    "tokenizer = SimpleTokenizer(vocab)\n",
    "text = \"\"\"\"It's the last he painted you know,\"\n",
    "        Mrs. Gisburn said with pardonable pride.\"\"\" "
   ]
  },
  {
   "cell_type": "code",
   "execution_count": 55,
   "id": "71d04fee-b2b1-48ae-80ce-d9c049d70507",
   "metadata": {},
   "outputs": [
    {
     "name": "stdout",
     "output_type": "stream",
     "text": [
      "[1, 56, 2, 850, 988, 602, 533, 746, 1126, 596, 5, 1, 67, 7, 38, 851, 1108, 754, 793, 7]\n"
     ]
    }
   ],
   "source": [
    "### Test for encode function whether it convert these text into ids and returning it \n",
    "ids = tokenizer.encode(text)\n",
    "print(ids)"
   ]
  },
  {
   "cell_type": "code",
   "execution_count": 56,
   "id": "7c9a0f67-0d96-4b38-bb4c-175e19800b94",
   "metadata": {},
   "outputs": [
    {
     "data": {
      "text/plain": [
       "'\" It \\' s the last he painted you know , \" Mrs . Gisburn said with pardonable pride .'"
      ]
     },
     "execution_count": 56,
     "metadata": {},
     "output_type": "execute_result"
    }
   ],
   "source": [
    "tokenizer.decode(ids)"
   ]
  }
 ],
 "metadata": {
  "kernelspec": {
   "display_name": "Python 3 (ipykernel)",
   "language": "python",
   "name": "python3"
  },
  "language_info": {
   "codemirror_mode": {
    "name": "ipython",
    "version": 3
   },
   "file_extension": ".py",
   "mimetype": "text/x-python",
   "name": "python",
   "nbconvert_exporter": "python",
   "pygments_lexer": "ipython3",
   "version": "3.12.4"
  }
 },
 "nbformat": 4,
 "nbformat_minor": 5
}
