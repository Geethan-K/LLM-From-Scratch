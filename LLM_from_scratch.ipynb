{
 "cells": [
  {
   "cell_type": "code",
   "execution_count": 63,
   "id": "35659bff-5c88-426a-9f74-34fd800d6edf",
   "metadata": {},
   "outputs": [
    {
     "name": "stdout",
     "output_type": "stream",
     "text": [
      "Total no. of. charachters 20479\n",
      "I HAD always thought Jack Gisburn rather a cheap genius--though a good fellow enough--so it was no \n"
     ]
    }
   ],
   "source": [
    "with open(\"the-verdict.txt\" , \"r\" , encoding=\"utf-8\") as f:\n",
    "    raw_text = f.read()\n",
    "\n",
    "print(\"Total no. of. charachters\" , len(raw_text))\n",
    "print(raw_text[:99])"
   ]
  },
  {
   "cell_type": "code",
   "execution_count": 64,
   "id": "4ab98c70-4df6-4f19-b229-1e7406a1963a",
   "metadata": {},
   "outputs": [
    {
     "name": "stdout",
     "output_type": "stream",
     "text": [
      "['Hello', ' ', 'world', ' ', '!', ' ', ',', ' ', 'This', ' ', 'is', ' ', 'a', ' ', 'test']\n"
     ]
    }
   ],
   "source": [
    "import re\n",
    "\n",
    "text = \"Hello world ! , This is a test\"\n",
    "result = re.split(r'(\\s)' , text)\n",
    "\n",
    "print(result)"
   ]
  },
  {
   "cell_type": "code",
   "execution_count": 65,
   "id": "eba21807-1a6e-4a60-99ea-5ecca120e8dc",
   "metadata": {},
   "outputs": [
    {
     "name": "stdout",
     "output_type": "stream",
     "text": [
      "['Hello', ' ', 'world', ' ', '', '!', '', ' ', '', ',', '', ' ', 'This', ' ', 'is', ' ', 'a', ' ', 'test']\n"
     ]
    }
   ],
   "source": [
    "result = re.split(r'([,.;:?_!\"()\\']|--|\\s)' , text)\n",
    "print(result)"
   ]
  },
  {
   "cell_type": "code",
   "execution_count": 66,
   "id": "f2b270b4-911f-4628-a674-fb4d4cb6f3bc",
   "metadata": {},
   "outputs": [
    {
     "name": "stdout",
     "output_type": "stream",
     "text": [
      "['Hello', 'world', '!', ',', 'This', 'is', 'a', 'test']\n"
     ]
    }
   ],
   "source": [
    "## removing the white spaces\n",
    "result = [item for item in result if item.strip()]\n",
    "print(result)"
   ]
  },
  {
   "cell_type": "code",
   "execution_count": 67,
   "id": "6c3ece04-cde3-4b62-b4b4-06cd1bb55494",
   "metadata": {},
   "outputs": [
    {
     "name": "stdout",
     "output_type": "stream",
     "text": [
      "['I', 'HAD', 'always', 'thought', 'Jack', 'Gisburn', 'rather', 'a', 'cheap', 'genius', '--', 'though', 'a', 'good', 'fellow', 'enough', '--', 'so', 'it', 'was', 'no', 'great', 'surprise', 'to', 'me', 'to', 'hear', 'that', ',', 'in']\n"
     ]
    }
   ],
   "source": [
    "preprocessed = re.split(r'([,.;:?_!\"()\\']|--|\\s)' , raw_text)\n",
    "preprocessed = [item.strip() for item in preprocessed if item.strip()]\n",
    "print(preprocessed[:30])"
   ]
  },
  {
   "cell_type": "code",
   "execution_count": 68,
   "id": "04700b6f-ff08-4234-a252-44b0dbfe7e37",
   "metadata": {},
   "outputs": [
    {
     "name": "stdout",
     "output_type": "stream",
     "text": [
      "4690\n"
     ]
    }
   ],
   "source": [
    "print(len(preprocessed))"
   ]
  },
  {
   "cell_type": "code",
   "execution_count": 69,
   "id": "51146b11-ed38-4e16-a6a4-2843e41facfa",
   "metadata": {},
   "outputs": [
    {
     "name": "stdout",
     "output_type": "stream",
     "text": [
      "1130\n"
     ]
    }
   ],
   "source": [
    "### sort all words in alfabetical order \n",
    "## set keyword is used to take only unique words (non-repeating)\n",
    "all_words = sorted(set(preprocessed))\n",
    "vocab_size = len(all_words)\n",
    "\n",
    "print(vocab_size)"
   ]
  },
  {
   "cell_type": "code",
   "execution_count": 70,
   "id": "37206536-648e-4d24-ab1b-7e7d3237e412",
   "metadata": {},
   "outputs": [],
   "source": [
    "vocab = {token:integer for integer,token in enumerate(all_words)}"
   ]
  },
  {
   "cell_type": "code",
   "execution_count": 71,
   "id": "30a145d8-fb5b-401e-86dc-85b894a21cab",
   "metadata": {},
   "outputs": [
    {
     "name": "stdout",
     "output_type": "stream",
     "text": [
      "('!', 0)\n",
      "('\"', 1)\n",
      "(\"'\", 2)\n",
      "('(', 3)\n",
      "(')', 4)\n",
      "(',', 5)\n",
      "('--', 6)\n",
      "('.', 7)\n",
      "(':', 8)\n",
      "(';', 9)\n",
      "('?', 10)\n",
      "('A', 11)\n",
      "('Ah', 12)\n",
      "('Among', 13)\n",
      "('And', 14)\n",
      "('Are', 15)\n",
      "('Arrt', 16)\n",
      "('As', 17)\n",
      "('At', 18)\n",
      "('Be', 19)\n",
      "('Begin', 20)\n"
     ]
    }
   ],
   "source": [
    "## Let's print some of them to understand \n",
    "\n",
    "for i,item in enumerate(vocab.items()):\n",
    "    print(item)\n",
    "    if(i>=20):\n",
    "        break"
   ]
  },
  {
   "cell_type": "code",
   "execution_count": 72,
   "id": "c321fec3-8ab9-4262-ad07-8c7b06490492",
   "metadata": {},
   "outputs": [],
   "source": [
    "### THE ABOVE PROCESS IS ENCODER \n",
    "### reversal of this process is called DECODER"
   ]
  },
  {
   "cell_type": "code",
   "execution_count": 73,
   "id": "0529185d-21f6-4edf-a266-8edddd0ba9bf",
   "metadata": {},
   "outputs": [],
   "source": [
    "class SimpleTokenizerV1:\n",
    "    def __init__(self,vocab):\n",
    "        self.str_to_int = vocab  ##mentioned above list\n",
    "        self.int_to_str = {i:s for s,i in vocab.items()}\n",
    "\n",
    "    def encode(self,text):\n",
    "        preprocessed = re.split(r'([,.;:?_!\"()\\']|--|\\s)' , text)\n",
    "        preprocessed = [ item.strip() for item in preprocessed if item.strip() ]\n",
    "        ids = [ self.str_to_int[s] for s in preprocessed ]\n",
    "        return ids\n",
    "\n",
    "    def decode(self,ids):\n",
    "        text = \" \".join([self.int_to_str[i] for i in ids])\n",
    "        ## Replace spaces before special charachters\n",
    "        text = re.sub(r'\\s+([,.?!\"()\\'])' , r'\\1' , text)\n",
    "        return text        "
   ]
  },
  {
   "cell_type": "code",
   "execution_count": 74,
   "id": "33a4cb0b-f006-4da6-8bc4-6ee3a1dfcf67",
   "metadata": {},
   "outputs": [],
   "source": [
    "### Let's test it\n",
    "\n",
    "tokenizer = SimpleTokenizerV1(vocab)\n",
    "text = \"\"\"\"It's the last he painted you know,\"\n",
    "        Mrs. Gisburn said with pardonable pride.\"\"\" "
   ]
  },
  {
   "cell_type": "code",
   "execution_count": 75,
   "id": "71d04fee-b2b1-48ae-80ce-d9c049d70507",
   "metadata": {},
   "outputs": [
    {
     "name": "stdout",
     "output_type": "stream",
     "text": [
      "[1, 56, 2, 850, 988, 602, 533, 746, 1126, 596, 5, 1, 67, 7, 38, 851, 1108, 754, 793, 7]\n"
     ]
    }
   ],
   "source": [
    "### Test for encode function whether it convert these text into ids and returning it \n",
    "ids = tokenizer.encode(text)\n",
    "print(ids)"
   ]
  },
  {
   "cell_type": "code",
   "execution_count": 76,
   "id": "7c9a0f67-0d96-4b38-bb4c-175e19800b94",
   "metadata": {},
   "outputs": [
    {
     "data": {
      "text/plain": [
       "'\" It\\' s the last he painted you know,\" Mrs. Gisburn said with pardonable pride.'"
      ]
     },
     "execution_count": 76,
     "metadata": {},
     "output_type": "execute_result"
    }
   ],
   "source": [
    "tokenizer.decode(ids)"
   ]
  },
  {
   "cell_type": "code",
   "execution_count": 77,
   "id": "db9a17bf-383d-442a-a591-91a950a964be",
   "metadata": {},
   "outputs": [],
   "source": [
    "### What if we add text that is not in book ?\n",
    "\n",
    "tokenizer = SimpleTokenizerV1(vocab)\n",
    "text = \"Let's have tea ?\""
   ]
  },
  {
   "cell_type": "code",
   "execution_count": 78,
   "id": "2dccfff8-b578-4e75-b117-4308ee918a09",
   "metadata": {},
   "outputs": [
    {
     "ename": "KeyError",
     "evalue": "'Let'",
     "output_type": "error",
     "traceback": [
      "\u001b[1;31m---------------------------------------------------------------------------\u001b[0m",
      "\u001b[1;31mKeyError\u001b[0m                                  Traceback (most recent call last)",
      "Cell \u001b[1;32mIn[78], line 1\u001b[0m\n\u001b[1;32m----> 1\u001b[0m ids \u001b[38;5;241m=\u001b[39m \u001b[43mtokenizer\u001b[49m\u001b[38;5;241;43m.\u001b[39;49m\u001b[43mencode\u001b[49m\u001b[43m(\u001b[49m\u001b[43mtext\u001b[49m\u001b[43m)\u001b[49m\n\u001b[0;32m      2\u001b[0m \u001b[38;5;28mprint\u001b[39m(ids)\n",
      "Cell \u001b[1;32mIn[73], line 9\u001b[0m, in \u001b[0;36mSimpleTokenizerV1.encode\u001b[1;34m(self, text)\u001b[0m\n\u001b[0;32m      7\u001b[0m preprocessed \u001b[38;5;241m=\u001b[39m re\u001b[38;5;241m.\u001b[39msplit(\u001b[38;5;124mr\u001b[39m\u001b[38;5;124m'\u001b[39m\u001b[38;5;124m([,.;:?_!\u001b[39m\u001b[38;5;124m\"\u001b[39m\u001b[38;5;124m()\u001b[39m\u001b[38;5;130;01m\\'\u001b[39;00m\u001b[38;5;124m]|--|\u001b[39m\u001b[38;5;124m\\\u001b[39m\u001b[38;5;124ms)\u001b[39m\u001b[38;5;124m'\u001b[39m , text)\n\u001b[0;32m      8\u001b[0m preprocessed \u001b[38;5;241m=\u001b[39m [ item\u001b[38;5;241m.\u001b[39mstrip() \u001b[38;5;28;01mfor\u001b[39;00m item \u001b[38;5;129;01min\u001b[39;00m preprocessed \u001b[38;5;28;01mif\u001b[39;00m item\u001b[38;5;241m.\u001b[39mstrip() ]\n\u001b[1;32m----> 9\u001b[0m ids \u001b[38;5;241m=\u001b[39m [ \u001b[38;5;28;43mself\u001b[39;49m\u001b[38;5;241;43m.\u001b[39;49m\u001b[43mstr_to_int\u001b[49m\u001b[43m[\u001b[49m\u001b[43ms\u001b[49m\u001b[43m]\u001b[49m \u001b[38;5;28;01mfor\u001b[39;00m s \u001b[38;5;129;01min\u001b[39;00m preprocessed ]\n\u001b[0;32m     10\u001b[0m \u001b[38;5;28;01mreturn\u001b[39;00m ids\n",
      "\u001b[1;31mKeyError\u001b[0m: 'Let'"
     ]
    }
   ],
   "source": [
    "ids = tokenizer.encode(text)\n",
    "print(ids)"
   ]
  },
  {
   "cell_type": "code",
   "execution_count": 79,
   "id": "7917dcde-dce5-4f33-9cb2-26d51784b26e",
   "metadata": {},
   "outputs": [],
   "source": [
    "### See the above wont't work as these keywords are not in book\n",
    "### So , Let's add some more tokens like unknown , end of text .\n",
    "\n",
    "all_tokens = sorted(list(set(preprocessed)))\n",
    "all_tokens.extend([\"<|endoftext|>\", \"<|unk|>\"])\n",
    "\n",
    "vocab = {token:integer for integer,token in enumerate(all_tokens)}"
   ]
  },
  {
   "cell_type": "code",
   "execution_count": 80,
   "id": "0e60db35-87fa-4cb4-97c6-44eed8865c7b",
   "metadata": {},
   "outputs": [
    {
     "data": {
      "text/plain": [
       "1132"
      ]
     },
     "execution_count": 80,
     "metadata": {},
     "output_type": "execute_result"
    }
   ],
   "source": [
    "len(vocab)"
   ]
  },
  {
   "cell_type": "code",
   "execution_count": 81,
   "id": "4ebae8c9-d8c9-402b-b7ff-0dc86636085d",
   "metadata": {},
   "outputs": [
    {
     "name": "stdout",
     "output_type": "stream",
     "text": [
      "('younger', 1127)\n",
      "('your', 1128)\n",
      "('yourself', 1129)\n",
      "('<|endoftext|>', 1130)\n",
      "('<|unk|>', 1131)\n"
     ]
    }
   ],
   "source": [
    "## Let's print last 5 words in vocab\n",
    "for i,item in enumerate(list(vocab.items())[-5:]):\n",
    "    print(item)"
   ]
  },
  {
   "cell_type": "code",
   "execution_count": 82,
   "id": "cdef7503-73c8-4b01-894a-fbf36cc6abf9",
   "metadata": {},
   "outputs": [],
   "source": [
    "class SimpleTokenizerV2:\n",
    "    def __init__(self,vocab):\n",
    "        self.str_to_int = vocab  ##mentioned above list\n",
    "        self.int_to_str = {i:s for s,i in vocab.items()}\n",
    "\n",
    "    def encode(self,text):\n",
    "        preprocessed = re.split(r'([,.;:?_!\"()\\']|--|\\s)' , text)\n",
    "        preprocessed = [ item.strip() for item in preprocessed if item.strip() ]\n",
    "        preprocessed = [\n",
    "            item if item in self.str_to_int\n",
    "            else \"<|unk|>\" for item in preprocessed\n",
    "        ]\n",
    "        ids = [ self.str_to_int[s] for s in preprocessed ]\n",
    "        return ids\n",
    "\n",
    "    def decode(self,ids):\n",
    "        text = \" \".join([self.int_to_str[i] for i in ids])\n",
    "        ## Replace spaces before special charachters\n",
    "        text = re.sub(r'\\s+([,.?!\"()\\'])' , r'\\1' , text)\n",
    "        return text        "
   ]
  },
  {
   "cell_type": "code",
   "execution_count": 83,
   "id": "66f32cab-62f1-44d4-b18c-8585d32dba43",
   "metadata": {},
   "outputs": [
    {
     "name": "stdout",
     "output_type": "stream",
     "text": [
      "Hello, do you like tea?<|endoftext|>In the sunlight terraces of the palace. \n"
     ]
    }
   ],
   "source": [
    "tokenizer = SimpleTokenizerV2(vocab)\n",
    "\n",
    "text1 = \"Hello, do you like tea?\"\n",
    "text2 = \"In the sunlight terraces of the palace. \"\n",
    "\n",
    "text = \"<|endoftext|>\".join((text1,text2))\n",
    "\n",
    "print(text)"
   ]
  },
  {
   "cell_type": "code",
   "execution_count": 84,
   "id": "857b0a30-657b-4469-bb81-d106d453c90e",
   "metadata": {},
   "outputs": [
    {
     "data": {
      "text/plain": [
       "[1131, 5, 355, 1126, 628, 975, 10, 1131, 988, 1131, 984, 722, 988, 1131, 7]"
      ]
     },
     "execution_count": 84,
     "metadata": {},
     "output_type": "execute_result"
    }
   ],
   "source": [
    "tokenizer.encode(text)"
   ]
  },
  {
   "cell_type": "code",
   "execution_count": 85,
   "id": "adb0a365-50d1-4aab-92b7-1574a0808ed5",
   "metadata": {},
   "outputs": [
    {
     "data": {
      "text/plain": [
       "'<|unk|>, do you like tea? <|unk|> the <|unk|> terraces of the <|unk|>.'"
      ]
     },
     "execution_count": 85,
     "metadata": {},
     "output_type": "execute_result"
    }
   ],
   "source": [
    "tokenizer.decode(tokenizer.encode(text))"
   ]
  },
  {
   "cell_type": "code",
   "execution_count": 87,
   "id": "72300348-c3e5-4ffe-9220-e3b8123fa9c9",
   "metadata": {},
   "outputs": [
    {
     "name": "stdout",
     "output_type": "stream",
     "text": [
      "tiktoken version 0.11.0\n"
     ]
    }
   ],
   "source": [
    "import importlib\n",
    "import tiktoken\n",
    "\n",
    "print(\"tiktoken version\" , importlib.metadata.version(\"tiktoken\"))"
   ]
  },
  {
   "cell_type": "code",
   "execution_count": 88,
   "id": "61187608-f541-41eb-abc5-134fa3b07236",
   "metadata": {},
   "outputs": [],
   "source": [
    "### This is the Byte pair tokenizer from GPT\n",
    "\n",
    "tokenizer = tiktoken.get_encoding(\"gpt2\")"
   ]
  },
  {
   "cell_type": "code",
   "execution_count": 89,
   "id": "32f3c6db-b931-4f15-81c6-9bab2bd60acf",
   "metadata": {},
   "outputs": [
    {
     "name": "stdout",
     "output_type": "stream",
     "text": [
      "[15496, 11, 466, 345, 588, 8887, 30, 220, 50256, 554, 262, 4252, 18250, 8812, 2114, 1659, 617, 34680, 5372, 13]\n"
     ]
    }
   ],
   "source": [
    "text = (\n",
    "    \"Hello, do you like tea? <|endoftext|> In the sunlit terraces\"\n",
    "    \"of someunknownplace.\"   \n",
    "       )\n",
    "\n",
    "integers = tokenizer.encode(text,allowed_special={\"<|endoftext|>\"})\n",
    "print(integers)"
   ]
  },
  {
   "cell_type": "code",
   "execution_count": 90,
   "id": "e907f168-2aab-4935-8f42-4f577f0e32c9",
   "metadata": {},
   "outputs": [
    {
     "name": "stdout",
     "output_type": "stream",
     "text": [
      "Hello, do you like tea? <|endoftext|> In the sunlit terracesof someunknownplace.\n"
     ]
    }
   ],
   "source": [
    "strings = tokenizer.decode(integers)\n",
    "print(strings)"
   ]
  },
  {
   "cell_type": "code",
   "execution_count": 91,
   "id": "cd1f9d3c-2b74-47dd-8aa1-bd1905da728a",
   "metadata": {},
   "outputs": [
    {
     "name": "stdout",
     "output_type": "stream",
     "text": [
      "5145\n"
     ]
    }
   ],
   "source": [
    "with open(\"the-verdict.txt\" , \"r\" , encoding=\"utf-8\") as f:\n",
    "    raw_text = f.read()\n",
    "\n",
    "enc_text = tokenizer.encode(raw_text)\n",
    "print(len(enc_text))"
   ]
  },
  {
   "cell_type": "code",
   "execution_count": 92,
   "id": "3ce636a2-c35c-499f-9a51-7fda62222eb8",
   "metadata": {},
   "outputs": [],
   "source": [
    "## Take the first 50 tokens for demonstration \n",
    "enc_sample = enc_text[50:]"
   ]
  },
  {
   "cell_type": "code",
   "execution_count": 93,
   "id": "0100ed38-0dca-4f9e-8a2a-bbc0009108b3",
   "metadata": {},
   "outputs": [
    {
     "name": "stdout",
     "output_type": "stream",
     "text": [
      "x:[290, 4920, 2241, 287]\n",
      "y:[4920, 2241, 287, 257]\n"
     ]
    }
   ],
   "source": [
    "context_size = 4 ## Length of the input\n",
    "\n",
    "x = enc_sample[:context_size]\n",
    "y = enc_sample[1:context_size+1]\n",
    "\n",
    "print(f\"x:{x}\")\n",
    "print(f\"y:{y}\")"
   ]
  },
  {
   "cell_type": "code",
   "execution_count": 94,
   "id": "5228bb71-017c-4062-b543-9989c75a6f8d",
   "metadata": {},
   "outputs": [
    {
     "name": "stdout",
     "output_type": "stream",
     "text": [
      "[290] -----> 4920\n",
      "[290, 4920] -----> 2241\n",
      "[290, 4920, 2241] -----> 287\n",
      "[290, 4920, 2241, 287] -----> 257\n"
     ]
    }
   ],
   "source": [
    "for i in range(1, context_size+1): ## Run from 1 to 5\n",
    "    context = enc_sample[:i]\n",
    "    desired = enc_sample[i]\n",
    "\n",
    "    print(context , \"----->\", desired)"
   ]
  },
  {
   "cell_type": "code",
   "execution_count": 95,
   "id": "7925e60e-8d32-4032-ba3e-ca928ce0ec8a",
   "metadata": {},
   "outputs": [
    {
     "name": "stdout",
     "output_type": "stream",
     "text": [
      " and ----->  established\n",
      " and established ----->  himself\n",
      " and established himself ----->  in\n",
      " and established himself in ----->  a\n"
     ]
    }
   ],
   "source": [
    "for i in range(1, context_size+1): ## Run from 1 to 5\n",
    "    context = enc_sample[:i]\n",
    "    desired = enc_sample[i]\n",
    "\n",
    "    print(tokenizer.decode(context) , \"----->\", tokenizer.decode([desired]))"
   ]
  },
  {
   "cell_type": "code",
   "execution_count": 102,
   "id": "182f8c57-c22a-4b27-9f9a-d85a4bc936e2",
   "metadata": {},
   "outputs": [],
   "source": [
    "### The above is a simple demonstration . For larger data processing we use data loaders\n",
    "### We will use pytorch's built in Dataset and Dataloader classes\n",
    "\n",
    "from torch.utils.data import Dataset , DataLoader\n",
    "\n",
    "class GPTDatasetV1(Dataset):\n",
    "    def __init__(self,txt,tokenizer,max_length,stride):\n",
    "        self.input_ids=[]\n",
    "        self.target_ids=[]\n",
    "\n",
    "        # Tokenize the entire text\n",
    "        token_ids = tokenizer.encode(txt, allowed_special={\"<|endoftext|>\"})\n",
    "\n",
    "        #Use the sliding window approach . \n",
    "        for i in range(0,len(token_ids) - max_length , stride):\n",
    "            input_chunk = token_ids[i: i + max_length]\n",
    "            target_chunk = token_ids[i + 1: i + max_length + 1]\n",
    "            self.input_ids.append(torch.tensor(input_chunk)) ## 1'st row i.e X value [from 0 --> 4]\n",
    "            self.target_ids.append(torch.tensor(target_chunk))  ## 2'nd row i.e Y value [from 1 --> 5]\n",
    "\n",
    "    def __len__(self):\n",
    "        return len(self.input_ids)\n",
    "\n",
    "    def __getitem__(self,idx):  ## if the idx--> index is 50 (50th row)\n",
    "        return self.input_ids[idx] , self.target_ids[idx]    ## it will return 50th row of input tensor and 50th row of output tensor"
   ]
  },
  {
   "cell_type": "code",
   "execution_count": 103,
   "id": "cb246f55-cf96-4bbe-94ae-9d60a6ac1f22",
   "metadata": {},
   "outputs": [],
   "source": [
    "def create_dataloader_v1(txt , batch_size=4, max_length=256 , stride=128 , shuffle=True , drop_last=True , num_workers=0):\n",
    "    ## txt --> verdict.txt\n",
    "    ## batch_size --> run 4 process parallelly in cpu\n",
    "    ## max_length --> context size (previously we used 4 , GPT uses 256)\n",
    "    ## stride --> How much (words) we need to skip before the next batch\n",
    "    ## drop_last --> drop the last row , if row size (last batch) is shorter than specified batch size , to prevent loss spikes during training \n",
    "    \n",
    "    ## initialize the tokenizer --> we are using BytePair Tokenizer from GPT\n",
    "    tokenizer = tiktoken.get_encoding(\"gpt2\")\n",
    "\n",
    "    ## create Dataloader\n",
    "    dataset = GPTDatasetV1(txt,tokenizer,max_length,stride)\n",
    "\n",
    "    #create Dataloader\n",
    "    ## checks for the __get_item method in GPTDatasetV1 and returns the item\n",
    "    dataloader = DataLoader(\n",
    "        dataset,\n",
    "        batch_size=batch_size,\n",
    "        shuffle=shuffle,\n",
    "        drop_last=drop_last,\n",
    "        num_workers=num_workers\n",
    "    )\n",
    "    return dataloader"
   ]
  },
  {
   "cell_type": "code",
   "execution_count": null,
   "id": "e4a479f2-e992-4ab3-93d0-ba1115a1b170",
   "metadata": {},
   "outputs": [],
   "source": [
    "### Let's test the dataloader with batch size of 1 for an LLM with context size of 4  "
   ]
  },
  {
   "cell_type": "code",
   "execution_count": 109,
   "id": "2156fc34-126e-4730-b247-6af1212b22d1",
   "metadata": {},
   "outputs": [],
   "source": [
    "with open(\"the-verdict.txt\" , \"r\" , encoding=\"utf-8\") as f:\n",
    "    raw_text = f.read()"
   ]
  },
  {
   "cell_type": "code",
   "execution_count": 110,
   "id": "b45383bc-eca1-4313-bc4d-6de99052c440",
   "metadata": {},
   "outputs": [
    {
     "name": "stdout",
     "output_type": "stream",
     "text": [
      "pytorch version: 2.8.0+cpu\n",
      "[tensor([[  40,  367, 2885, 1464]]), tensor([[ 367, 2885, 1464, 1807]])]\n"
     ]
    }
   ],
   "source": [
    "import torch\n",
    "print(\"pytorch version:\" , torch.__version__)\n",
    "dataloader = create_dataloader_v1(raw_text , batch_size=1 , max_length=4 , stride=1 , shuffle=False)\n",
    "data_iter = iter(dataloader)\n",
    "first_batch = next(data_iter)\n",
    "print(first_batch)"
   ]
  },
  {
   "cell_type": "code",
   "execution_count": 111,
   "id": "e3857f5f-872a-4097-8925-6443541eb801",
   "metadata": {},
   "outputs": [
    {
     "name": "stdout",
     "output_type": "stream",
     "text": [
      "[tensor([[ 367, 2885, 1464, 1807]]), tensor([[2885, 1464, 1807, 3619]])]\n"
     ]
    }
   ],
   "source": [
    "second_batch = next(data_iter)\n",
    "print(second_batch)"
   ]
  },
  {
   "cell_type": "code",
   "execution_count": 113,
   "id": "65825512-fa98-45e5-bdb7-5c3904edc2a7",
   "metadata": {},
   "outputs": [
    {
     "ename": "NameError",
     "evalue": "name 'raw_txt' is not defined",
     "output_type": "error",
     "traceback": [
      "\u001b[1;31m---------------------------------------------------------------------------\u001b[0m",
      "\u001b[1;31mNameError\u001b[0m                                 Traceback (most recent call last)",
      "Cell \u001b[1;32mIn[113], line 1\u001b[0m\n\u001b[1;32m----> 1\u001b[0m dataloader \u001b[38;5;241m=\u001b[39m create_dataloader_v1(\u001b[43mraw_txt\u001b[49m , batch_size\u001b[38;5;241m=\u001b[39m\u001b[38;5;241m8\u001b[39m , max_length\u001b[38;5;241m=\u001b[39m\u001b[38;5;241m4\u001b[39m , stride\u001b[38;5;241m=\u001b[39m\u001b[38;5;241m4\u001b[39m , shuffle\u001b[38;5;241m=\u001b[39m\u001b[38;5;28;01mFalse\u001b[39;00m)\n\u001b[0;32m      2\u001b[0m data_iter \u001b[38;5;241m=\u001b[39m \u001b[38;5;28miter\u001b[39m(dataloader)\n\u001b[0;32m      3\u001b[0m inputs , targets \u001b[38;5;241m=\u001b[39m \u001b[38;5;28mnext\u001b[39m(data_iter)\n",
      "\u001b[1;31mNameError\u001b[0m: name 'raw_txt' is not defined"
     ]
    }
   ],
   "source": [
    "dataloader = create_dataloader_v1(raw_txt , batch_size=8 , max_length=4 , stride=4 , shuffle=False)\n",
    "data_iter = iter(dataloader)\n",
    "inputs , targets = next(data_iter)\n",
    "print(\"Inputs : \\n :\", inputs)\n",
    "print(\"\\n Targets : \\n\" , targets)"
   ]
  }
 ],
 "metadata": {
  "kernelspec": {
   "display_name": "Python 3 (ipykernel)",
   "language": "python",
   "name": "python3"
  },
  "language_info": {
   "codemirror_mode": {
    "name": "ipython",
    "version": 3
   },
   "file_extension": ".py",
   "mimetype": "text/x-python",
   "name": "python",
   "nbconvert_exporter": "python",
   "pygments_lexer": "ipython3",
   "version": "3.12.4"
  }
 },
 "nbformat": 4,
 "nbformat_minor": 5
}
